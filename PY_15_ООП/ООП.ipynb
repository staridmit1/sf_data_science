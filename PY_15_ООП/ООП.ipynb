{
 "cells": [
  {
   "cell_type": "code",
   "execution_count": 2,
   "metadata": {},
   "outputs": [],
   "source": [
    "class User():  \n",
    "\n",
    "    def __init__(self, email, password, balance):  \n",
    "        self.email = email  \n",
    "        self.password = password  \n",
    "        self.balance = balance\n",
    "        update_balance = 0\n",
    "\n",
    "          \n",
    " \n",
    "    def login(self, email, password):  \n",
    "        if self.email==email and self.password==password:\n",
    "            answer=True\n",
    "        else: \n",
    "            answer=False\n",
    "        return answer\n",
    "\n",
    "    def update_balance(self, amount):\n",
    "        self.balance += amount\n",
    "        return self.balance\n",
    "\n",
    "     \n",
    "        \n",
    "             "
   ]
  },
  {
   "cell_type": "code",
   "execution_count": 4,
   "metadata": {},
   "outputs": [
    {
     "data": {
      "text/plain": [
       "False"
      ]
     },
     "execution_count": 4,
     "metadata": {},
     "output_type": "execute_result"
    }
   ],
   "source": [
    "user = User(\"gosha@roskino.org\", \"qwerty\", 20_000)\n",
    "user.login(\"gosha@roskino.org\", \"qwerty123\")\n"
   ]
  },
  {
   "cell_type": "code",
   "execution_count": 5,
   "metadata": {},
   "outputs": [],
   "source": [
    "import statistics  \n",
    "  \n",
    "class DataFrame():  \n",
    "    def __init__(self, column, fill_value=0):  \n",
    "        # Инициализируем атрибуты  \n",
    "        self.column = column  \n",
    "        self.fill_value = fill_value  \n",
    "        # Заполним пропуски  \n",
    "        self.fill_missed()  \n",
    "        # Конвертируем все элементы в числа  \n",
    "        self.to_float()  \n",
    "          \n",
    "    def fill_missed(self):  \n",
    "        for i, value in enumerate(self.column):  \n",
    "            if value is None or value == '':  \n",
    "                self.column[i] = self.fill_value  \n",
    "                  \n",
    "    def to_float(self):  \n",
    "        self.column = [float(value) for value in self.column]  \n",
    "      \n",
    "    def median(self):  \n",
    "        return statistics.median(self.column)  \n",
    "      \n",
    "    def mean(self):  \n",
    "        return statistics.mean(self.column)  \n",
    "      \n",
    "    def deviation(self):  \n",
    "        return statistics.stdev(self.column)  \n",
    "      \n",
    "  "
   ]
  },
  {
   "cell_type": "code",
   "execution_count": 6,
   "metadata": {},
   "outputs": [],
   "source": [
    "class IntDataFrame():\n",
    "    def __init__(self, column):\n",
    "        self.column=column\n",
    "        self.to_int()\n",
    "        \n",
    "    def to_int(self):\n",
    "        self.column=[int(value) for value in self.column]\n",
    "    \n",
    "    def count(self):\n",
    "        j=0\n",
    "        for i, value in enumerate(self.column):\n",
    "            if value>0:\n",
    "                j+=1\n",
    "        return j\n",
    "    \n",
    "    def unique(self):\n",
    "        uniq=[]\n",
    "        for i, value in enumerate(self.column):\n",
    "            if value in uniq:\n",
    "                continue\n",
    "            else:\n",
    "                uniq.append(value)\n",
    "        return len(uniq)"
   ]
  },
  {
   "cell_type": "code",
   "execution_count": 8,
   "metadata": {},
   "outputs": [],
   "source": [
    "import pickle  \n",
    "from datetime import datetime  \n",
    "from os import path  \n",
    "  \n",
    "class Dumper():  \n",
    "    def __init__(self, archive_dir=\"archive/\"):  \n",
    "        self.archive_dir = archive_dir  \n",
    "          \n",
    "    def dump(self, data):  \n",
    "        # Библиотека pickle позволяет доставать и класть объекты в файл  \n",
    "        with open(self.get_file_name(), 'wb') as file:  \n",
    "            pickle.dump(data, file)  \n",
    "              \n",
    "    def load_for_day(self, day):  \n",
    "        file_name = path.join(self.archive_dir, day + \".pkl\")   \n",
    "        with open(file_name, 'rb') as file:  \n",
    "            sets = pickle.load(file)  \n",
    "        return sets  \n",
    "          \n",
    "    # возвращает корректное имя для файла   \n",
    "    def get_file_name(self):   \n",
    "        today = datetime.now().strftime(\"%y-%m-%d\")   \n",
    "        return path.join(self.archive_dir, today + \".pkl\")  \n",
    "      \n",
    "      \n"
   ]
  },
  {
   "cell_type": "code",
   "execution_count": 9,
   "metadata": {},
   "outputs": [
    {
     "name": "stdout",
     "output_type": "stream",
     "text": [
      "{'perfomance': [10, 20, 10], 'clients': {'Romashka': 10, 'Vector': 34}}\n"
     ]
    }
   ],
   "source": [
    "data = {  \n",
    "    'perfomance': [10, 20, 10],  \n",
    "    'clients': {\"Romashka\": 10, \"Vector\": 34}  \n",
    "}  \n",
    "  \n",
    "  \n",
    "dumper = Dumper()  \n",
    "  \n",
    "# Сохраним данные  \n",
    "dumper.dump(data)  \n",
    "  \n",
    "# Восстановим для сегодняшней даты  \n",
    "file_name = datetime.now().strftime(\"%y-%m-%d\")\n",
    "restored_data = dumper.load_for_day(file_name)\n",
    "print(restored_data)  \n",
    "# => {'perfomance': [10, 20, 10], 'clients': {'Romashka': 10, 'Vector': 34}}  "
   ]
  },
  {
   "cell_type": "code",
   "execution_count": 10,
   "metadata": {},
   "outputs": [],
   "source": [
    "class OwnLogger():\n",
    "   def __init__(self):\n",
    "       self.logs = {\"info\": None, \"warning\": None, \"error\": None, \"all\": None}\n",
    "   def log(self, message, level):\n",
    "       self.logs[level] = message\n",
    "       self.logs['all'] = message\n",
    "   def show_last(self, level='all'):\n",
    "       return self.logs[level]"
   ]
  },
  {
   "cell_type": "code",
   "execution_count": 12,
   "metadata": {},
   "outputs": [
    {
     "name": "stdout",
     "output_type": "stream",
     "text": [
      "c:\\DataBusiness\\staridmit1\\Desktop\\Docs\\DS\\IDE\\Skillfactory\\PY_15_ООП\n"
     ]
    }
   ],
   "source": [
    "start_path = os.getcwd()\n",
    "print(start_path)\n"
   ]
  },
  {
   "cell_type": "code",
   "execution_count": 13,
   "metadata": {},
   "outputs": [
    {
     "data": {
      "text/plain": [
       "'c:\\\\DataBusiness\\\\staridmit1\\\\Desktop\\\\Docs\\\\DS\\\\IDE\\\\Skillfactory'"
      ]
     },
     "execution_count": 13,
     "metadata": {},
     "output_type": "execute_result"
    }
   ],
   "source": [
    "os.chdir(\"..\") \n",
    "os.getcwd()"
   ]
  },
  {
   "cell_type": "code",
   "execution_count": 14,
   "metadata": {},
   "outputs": [
    {
     "data": {
      "text/plain": [
       "'c:\\\\DataBusiness\\\\staridmit1\\\\Desktop\\\\Docs\\\\DS\\\\IDE\\\\Skillfactory\\\\PY_15_ООП'"
      ]
     },
     "execution_count": 14,
     "metadata": {},
     "output_type": "execute_result"
    }
   ],
   "source": [
    "os.chdir(start_path)\n",
    "os.getcwd()"
   ]
  },
  {
   "cell_type": "code",
   "execution_count": 15,
   "metadata": {},
   "outputs": [
    {
     "name": "stdout",
     "output_type": "stream",
     "text": [
      "c:\\DataBusiness\\staridmit1\\Desktop\\Docs\\DS\\IDE\\Skillfactory\\PY_15_ООП\n",
      "c:\\DataBusiness\\staridmit1\\Desktop\\Docs\\DS\\IDE\\Skillfactory\\PY_15_ООП\\test\n"
     ]
    }
   ],
   "source": [
    "print(start_path)\n",
    "print(os.path.join(start_path, 'test'))"
   ]
  },
  {
   "cell_type": "code",
   "execution_count": 16,
   "metadata": {},
   "outputs": [
    {
     "name": "stdout",
     "output_type": "stream",
     "text": [
      "Текущая директория c:\\DataBusiness\\staridmit1\\Desktop\\Docs\\DS\\IDE\\Skillfactory\\PY_15_ООП\n",
      "---\n",
      "Список папок ['archive']\n",
      "---\n",
      "Список файлов ['ООП.ipynb']\n",
      "---\n",
      "Все пути:\n",
      "Файл  c:\\DataBusiness\\staridmit1\\Desktop\\Docs\\DS\\IDE\\Skillfactory\\PY_15_ООП\\ООП.ipynb\n",
      "Папка  c:\\DataBusiness\\staridmit1\\Desktop\\Docs\\DS\\IDE\\Skillfactory\\PY_15_ООП\\archive\n",
      "===\n",
      "Текущая директория c:\\DataBusiness\\staridmit1\\Desktop\\Docs\\DS\\IDE\\Skillfactory\\PY_15_ООП\\archive\n",
      "---\n",
      "Папок нет\n",
      "---\n",
      "Список файлов ['22-07-25.pkl']\n",
      "---\n",
      "Файл  c:\\DataBusiness\\staridmit1\\Desktop\\Docs\\DS\\IDE\\Skillfactory\\PY_15_ООП\\archive\\22-07-25.pkl\n",
      "===\n"
     ]
    }
   ],
   "source": [
    "import os\n",
    "\n",
    "def walk_desc(path=None):\n",
    "    start_path = path if path is not None else os.getcwd()\n",
    "\n",
    "    for root, dirs, files in os.walk(start_path):\n",
    "        print(\"Текущая директория\", root)\n",
    "        print(\"---\")\n",
    "\n",
    "        if dirs:\n",
    "            print(\"Список папок\", dirs)\n",
    "        else:\n",
    "            print(\"Папок нет\")\n",
    "        print(\"---\")\n",
    "\n",
    "        if files:\n",
    "            print(\"Список файлов\", files)\n",
    "        else:\n",
    "            print(\"Файлов нет\")\n",
    "        print(\"---\")\n",
    "\n",
    "        if files and dirs:\n",
    "            print(\"Все пути:\")\n",
    "        for f in files:\n",
    "            print(\"Файл \", os.path.join(root, f))\n",
    "        for d in dirs:\n",
    "            print(\"Папка \", os.path.join(root, d))\n",
    "        print(\"===\")\n",
    "\n",
    "walk_desc()"
   ]
  },
  {
   "cell_type": "code",
   "execution_count": 2,
   "metadata": {},
   "outputs": [
    {
     "name": "stdout",
     "output_type": "stream",
     "text": [
      "Average department revenue for Danon: 700000.0\n"
     ]
    }
   ],
   "source": [
    "class DepartmentReport():\n",
    "\n",
    "    def __init__(self,company):\n",
    "        \"\"\"\n",
    "        Метод инициализации класса. \n",
    "        Создаёт атрибуты revenues и company\n",
    "        \"\"\"\n",
    "        self.revenues = []\n",
    "        self.company = company\n",
    "    \n",
    "    def add_revenue(self, amount):\n",
    "        \"\"\"\n",
    "        Метод для добавления выручки отдела в список revenues.\n",
    "        Если атрибута revenues ещё не существует, метод должен создавать пустой список перед добавлением выручки.\n",
    "        \"\"\"\n",
    "        if not hasattr(self,'revenues'):\n",
    "            self.revenues=[]\n",
    "        self.revenues.append(amount)\n",
    "    \n",
    "    def average_revenue(self):\n",
    "        \"\"\"\n",
    "        Вычисляет average_revenue — среднюю выручку по отделам — округляя до целого.\n",
    "        Метод возвращает строку в формате:\n",
    "        'Average department revenue for <company>: <average_revenue>'\n",
    "        \"\"\"\n",
    "        average= round(sum(self.revenues)/len(self.revenues), 0)\n",
    "        return 'Average department revenue for {}: {}'.format(self.company,average)\n",
    "    \n",
    "\n",
    "report = DepartmentReport(\"Danon\")\n",
    "report.add_revenue(1_000_000)\n",
    "report.add_revenue(400_000)\n",
    "\n",
    "print(report.average_revenue())"
   ]
  }
 ],
 "metadata": {
  "kernelspec": {
   "display_name": "Python 3.10.5 64-bit",
   "language": "python",
   "name": "python3"
  },
  "language_info": {
   "codemirror_mode": {
    "name": "ipython",
    "version": 3
   },
   "file_extension": ".py",
   "mimetype": "text/x-python",
   "name": "python",
   "nbconvert_exporter": "python",
   "pygments_lexer": "ipython3",
   "version": "3.10.6"
  },
  "orig_nbformat": 4,
  "vscode": {
   "interpreter": {
    "hash": "229b859db9d460c341d377531e9451d33fcca87064befa6c28ba42ca699680f7"
   }
  }
 },
 "nbformat": 4,
 "nbformat_minor": 2
}
